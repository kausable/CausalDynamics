{
 "cells": [
  {
   "cell_type": "markdown",
   "metadata": {},
   "source": [
    "# Generate diverse data examples for a visual abstract"
   ]
  },
  {
   "cell_type": "code",
   "execution_count": null,
   "metadata": {},
   "outputs": [],
   "source": [
    "%load_ext autoreload\n",
    "%autoreload 2\n",
    "\n",
    "%matplotlib inline"
   ]
  },
  {
   "cell_type": "code",
   "execution_count": 104,
   "metadata": {},
   "outputs": [],
   "source": [
    "import matplotlib.pyplot as plt\n",
    "from causaldynamics.creator import create_scm, simulate_system\n",
    "from causaldynamics.plot import plot_scm, plot_trajectories, plot_3d_trajectories\n",
    "from causaldynamics.scm import create_scm_graph \n",
    "from causaldynamics.utils import get_timestamp\n",
    "\n",
    "from pathlib import Path\n",
    "Path(\"visual_abstract\").mkdir(parents=True, exist_ok=True)\n",
    "\n",
    "def run(num_nodes=3, confounders=True, time_lag=0, time_lag_edge_probability=0., system_name='random', output_dir=\"visual_abstract\"):\n",
    "    node_dim = 3\n",
    "    num_timesteps = 1500\n",
    "\n",
    "    init_ratios = [2, 1]   # set ratios of dynamical systems and periodic drivers at root nodes. Here: equal ratio.\n",
    "    noise = 0.0            # set noise for the dynamical systems\n",
    "\n",
    "\n",
    "    A, W, b, root_nodes, _ = create_scm(num_nodes, \n",
    "                                        node_dim,\n",
    "                                        confounders=confounders,\n",
    "                                        time_lag=time_lag,\n",
    "                                        time_lag_edge_probability=time_lag_edge_probability)\n",
    "\n",
    "    data = simulate_system(A, W, b, \n",
    "                        num_timesteps=num_timesteps, \n",
    "                        num_nodes=num_nodes,\n",
    "                        system_name=\"random\",\n",
    "                        init_ratios=init_ratios,\n",
    "                        time_lag=time_lag,\n",
    "                        standardize=False,\n",
    "                        make_trajectory_kwargs={'noise': noise}) \n",
    "\n",
    "    Path(output_dir).mkdir(parents=True, exist_ok=True)\n",
    "    plot_3d_trajectories(data, root_nodes, line_alpha=1., show_background=False, show_grid=False)\n",
    "    plt.tight_layout()\n",
    "    plt.savefig(f\"{output_dir}/{i:04d}_N{num_nodes}_C{confounders}_tl{time_lag}_tlp{time_lag_edge_probability}_3d_trajectories.png\")\n",
    "    # plt.show()\n",
    "    plt.close()\n",
    "\n",
    "    plot_scm(G=create_scm_graph(A), root_nodes=root_nodes)\n",
    "    plt.savefig(f\"{output_dir}/{i:04d}_N{num_nodes}_C{confounders}_tl{time_lag}_tlp{time_lag_edge_probability}_graph.png\")\n",
    "    # plt.show()\n",
    "    plt.close()\n"
   ]
  },
  {
   "cell_type": "code",
   "execution_count": null,
   "metadata": {},
   "outputs": [],
   "source": [
    "# Note: The output is stored in the visual_abstract/<timestamp> folder\n",
    "# Set the number of examples per configuration to sample\n",
    "num_examples = 10\n",
    "\n",
    "\n",
    "num_nodes = 3\n",
    "ts = get_timestamp()\n",
    "for i in range(num_examples):\n",
    "    run(num_nodes=num_nodes, confounders=True, time_lag=0, time_lag_edge_probability=0.0, system_name='random', output_dir=f\"visual_abstract/{ts}\")\n",
    "\n",
    "for i in range(num_examples):\n",
    "    run(num_nodes=num_nodes, confounders=False, time_lag=0, time_lag_edge_probability=0.0, system_name='random', output_dir=f\"visual_abstract/{ts}\")\n",
    "\n",
    "for i in range(num_examples):\n",
    "    run(num_nodes=num_nodes, confounders=False, time_lag=10, time_lag_edge_probability=0.1, system_name='random', output_dir=f\"visual_abstract/{ts}\")\n",
    "\n",
    "for i in range(num_examples):\n",
    "    run(num_nodes=num_nodes, confounders=True, time_lag=10, time_lag_edge_probability=0.1, system_name='random', output_dir=f\"visual_abstract/{ts}\")\n",
    "\n",
    "\n",
    "num_nodes = 5\n",
    "for i in range(num_examples):\n",
    "    run(num_nodes=num_nodes, confounders=True, time_lag=0, time_lag_edge_probability=0.0, system_name='random', output_dir=f\"visual_abstract/{ts}\")\n",
    "\n",
    "for i in range(num_examples):\n",
    "    run(num_nodes=num_nodes, confounders=False, time_lag=0, time_lag_edge_probability=0.0, system_name='random', output_dir=f\"visual_abstract/{ts}\")\n",
    "\n",
    "for i in range(num_examples):\n",
    "    run(num_nodes=num_nodes, confounders=False, time_lag=10, time_lag_edge_probability=0.1, system_name='random', output_dir=f\"visual_abstract/{ts}\")\n",
    "\n",
    "for i in range(num_examples):\n",
    "    run(num_nodes=num_nodes, confounders=True, time_lag=10, time_lag_edge_probability=0.1, system_name='random', output_dir=f\"visual_abstract/{ts}\")\n",
    "    \n",
    "num_examples = 5\n",
    "num_nodes = 10\n",
    "for i in range(num_examples):\n",
    "    run(num_nodes=num_nodes, confounders=True, time_lag=0, time_lag_edge_probability=0.0, system_name='random', output_dir=f\"visual_abstract/{ts}\")\n",
    "\n",
    "for i in range(num_examples):\n",
    "    run(num_nodes=num_nodes, confounders=False, time_lag=0, time_lag_edge_probability=0.0, system_name='random', output_dir=f\"visual_abstract/{ts}\")\n",
    "\n",
    "for i in range(num_examples):\n",
    "    run(num_nodes=num_nodes, confounders=False, time_lag=10, time_lag_edge_probability=0.1, system_name='random', output_dir=f\"visual_abstract/{ts}\")\n",
    "\n",
    "for i in range(num_examples):\n",
    "    run(num_nodes=num_nodes, confounders=True, time_lag=10, time_lag_edge_probability=0.1, system_name='random', output_dir=f\"visual_abstract/{ts}\")\n",
    "    "
   ]
  },
  {
   "cell_type": "code",
   "execution_count": null,
   "metadata": {},
   "outputs": [],
   "source": []
  }
 ],
 "metadata": {
  "kernelspec": {
   "display_name": ".venv",
   "language": "python",
   "name": "python3"
  },
  "language_info": {
   "codemirror_mode": {
    "name": "ipython",
    "version": 3
   },
   "file_extension": ".py",
   "mimetype": "text/x-python",
   "name": "python",
   "nbconvert_exporter": "python",
   "pygments_lexer": "ipython3",
   "version": "3.10.16"
  }
 },
 "nbformat": 4,
 "nbformat_minor": 2
}
