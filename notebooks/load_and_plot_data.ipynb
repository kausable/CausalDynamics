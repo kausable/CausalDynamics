{
 "cells": [
  {
   "cell_type": "code",
   "execution_count": 1,
   "metadata": {},
   "outputs": [],
   "source": [
    "%load_ext autoreload\n",
    "%autoreload 2\n",
    "\n",
    "%matplotlib inline"
   ]
  },
  {
   "cell_type": "code",
   "execution_count": 2,
   "metadata": {},
   "outputs": [],
   "source": [
    "import xarray as xr\n",
    "import matplotlib as mpl\n",
    "\n",
    "from causaldynamics.scm import create_scm_graph\n",
    "from causaldynamics.plot import animate_3d_trajectories, plot_trajectories, plot_scm\n"
   ]
  },
  {
   "cell_type": "markdown",
   "metadata": {},
   "source": [
    "All relevant data is stored in a single dataset for easy access. Let's load it and look at the content:"
   ]
  },
  {
   "cell_type": "code",
   "execution_count": null,
   "metadata": {},
   "outputs": [],
   "source": [
    "# TODO: Update the path to the data\n",
    "ds = xr.load_dataset(\"../output/20250505_161143/data/Srandom_N5_T100_seed0.nc\")\n",
    "ds"
   ]
  },
  {
   "cell_type": "markdown",
   "metadata": {},
   "source": [
    "The data is stored in the `Data variables`. To get the data, e.g. the time_series, you can index it like a dictionary. "
   ]
  },
  {
   "cell_type": "code",
   "execution_count": null,
   "metadata": {},
   "outputs": [],
   "source": [
    "time_series = ds[\"time_series\"]\n",
    "time_series "
   ]
  },
  {
   "cell_type": "markdown",
   "metadata": {},
   "source": [
    "Let's plot the time series."
   ]
  },
  {
   "cell_type": "code",
   "execution_count": null,
   "metadata": {},
   "outputs": [],
   "source": [
    "root_nodes = ds[\"root_nodes\"]\n",
    "plot_trajectories(time_series, root_nodes=root_nodes, sharey=False, node_color=\"orange\", root_node_color=\"dimgrey\")"
   ]
  },
  {
   "cell_type": "markdown",
   "metadata": {},
   "source": [
    "The adjacency matrix encodes the SCM graph structure. The first dimension are the incoming nodes and the second dimension are the outgoing nodes."
   ]
  },
  {
   "cell_type": "code",
   "execution_count": null,
   "metadata": {},
   "outputs": [],
   "source": [
    "A = ds[\"adjacency_matrix\"]\n",
    "A"
   ]
  },
  {
   "cell_type": "code",
   "execution_count": null,
   "metadata": {},
   "outputs": [],
   "source": [
    "# You can access the underlying numpy array directly by calling .data\n",
    "print(A.data)\n",
    "# You can also convert it to a pandas DataFrame\n",
    "print(A.to_dataframe())"
   ]
  },
  {
   "cell_type": "markdown",
   "metadata": {},
   "source": [
    "Let's visualize the graph"
   ]
  },
  {
   "cell_type": "code",
   "execution_count": null,
   "metadata": {},
   "outputs": [],
   "source": [
    "G = create_scm_graph(A.data)\n",
    "plot_scm(G, root_nodes=root_nodes)\n"
   ]
  },
  {
   "cell_type": "code",
   "execution_count": null,
   "metadata": {},
   "outputs": [],
   "source": [
    "# Creating an animation of the trajectories. \n",
    "# This may take a while to run...\n",
    "mpl.rcParams[\"animation.embed_limit\"] = 50 * 1024**2  # Increase the limit to 50MB\n",
    "\n",
    "animate_3d_trajectories(time_series, \n",
    "                        root_nodes=root_nodes, \n",
    "                        plot_type=\"subplots\",\n",
    "                        frame_skip=5, \n",
    "                        rotation_speed=0.2, \n",
    "                        rotate=True, \n",
    "                        show_history=True, \n",
    "                        save_path=None, \n",
    "                        return_html_anim=True, # perfect for use in notebooks :)\n",
    "                        show_plot=False,\n",
    "                        root_node_alpha=0.5,\n",
    "                        node_alpha=0.5,\n",
    "                        linewidth=1.5)"
   ]
  }
 ],
 "metadata": {
  "kernelspec": {
   "display_name": ".venv",
   "language": "python",
   "name": "python3"
  },
  "language_info": {
   "codemirror_mode": {
    "name": "ipython",
    "version": 3
   },
   "file_extension": ".py",
   "mimetype": "text/x-python",
   "name": "python",
   "nbconvert_exporter": "python",
   "pygments_lexer": "ipython3",
   "version": "3.10.16"
  }
 },
 "nbformat": 4,
 "nbformat_minor": 2
}
